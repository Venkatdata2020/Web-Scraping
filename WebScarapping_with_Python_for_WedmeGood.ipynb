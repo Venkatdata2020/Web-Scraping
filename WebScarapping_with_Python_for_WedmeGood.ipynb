{
  "nbformat": 4,
  "nbformat_minor": 0,
  "metadata": {
    "colab": {
      "name": "WebScarapping with Python for WedmeGood.ipynb",
      "provenance": []
    },
    "kernelspec": {
      "name": "python3",
      "display_name": "Python 3"
    }
  },
  "cells": [
    {
      "cell_type": "code",
      "metadata": {
        "id": "qt7FuLF2Q9hp"
      },
      "source": [
        "import requests\n",
        "from bs4 import BeautifulSoup"
      ],
      "execution_count": 22,
      "outputs": []
    },
    {
      "cell_type": "code",
      "metadata": {
        "id": "WViSacBbRJoQ"
      },
      "source": [
        "url = \"https://www.wedmegood.com/vendors/bangalore/planners/\""
      ],
      "execution_count": 23,
      "outputs": []
    },
    {
      "cell_type": "code",
      "metadata": {
        "id": "xXDrWRI3RLZQ"
      },
      "source": [
        "res = requests.get(url)"
      ],
      "execution_count": 24,
      "outputs": []
    },
    {
      "cell_type": "code",
      "metadata": {
        "id": "S09LGZllROlH",
        "outputId": "f7fb846b-94f5-4a96-9caa-4f97e0ee0722",
        "colab": {
          "base_uri": "https://localhost:8080/"
        }
      },
      "source": [
        "res\n"
      ],
      "execution_count": 25,
      "outputs": [
        {
          "output_type": "execute_result",
          "data": {
            "text/plain": [
              "<Response [200]>"
            ]
          },
          "metadata": {
            "tags": []
          },
          "execution_count": 25
        }
      ]
    },
    {
      "cell_type": "code",
      "metadata": {
        "id": "GRYOozo_RPlv"
      },
      "source": [
        "res = requests.get(url).content"
      ],
      "execution_count": 26,
      "outputs": []
    },
    {
      "cell_type": "code",
      "metadata": {
        "id": "GFqHM31YR7gr"
      },
      "source": [
        "soup = BeautifulSoup(res,\"html.parser\")"
      ],
      "execution_count": 27,
      "outputs": []
    },
    {
      "cell_type": "code",
      "metadata": {
        "id": "491XufunSB-F",
        "outputId": "2485659c-2946-47cb-803d-1a568fd78134",
        "colab": {
          "base_uri": "https://localhost:8080/"
        }
      },
      "source": [
        "print(soup.prettify())"
      ],
      "execution_count": 28,
      "outputs": [
        {
          "output_type": "stream",
          "text": [
            "IOPub data rate exceeded.\n",
            "The notebook server will temporarily stop sending output\n",
            "to the client in order to avoid crashing it.\n",
            "To change this limit, set the config variable\n",
            "`--NotebookApp.iopub_data_rate_limit`.\n",
            "\n",
            "Current values:\n",
            "NotebookApp.iopub_data_rate_limit=1000000.0 (bytes/sec)\n",
            "NotebookApp.rate_limit_window=3.0 (secs)\n",
            "\n"
          ],
          "name": "stderr"
        }
      ]
    },
    {
      "cell_type": "code",
      "metadata": {
        "id": "uNOl5eY5SKLz"
      },
      "source": [
        "info = soup.find(\"div\",class_=\"vendor-info\")"
      ],
      "execution_count": 29,
      "outputs": []
    },
    {
      "cell_type": "code",
      "metadata": {
        "id": "8UiBdHp3SmoF",
        "outputId": "84d57b9b-ca70-4145-f5c6-8b976d793bac",
        "colab": {
          "base_uri": "https://localhost:8080/"
        }
      },
      "source": [
        "print(info)"
      ],
      "execution_count": 30,
      "outputs": [
        {
          "output_type": "stream",
          "text": [
            "<div class=\"vendor-info\"><div class=\"padding-10\"><div class=\"line f-space-between\"><div class=\"frow\"><a class=\"vendor-detail text-bold h6\" href=\"/profile/3Productions--3282\" style=\"max-width:200px\" target=\"_blank\">3Productions</a></div><div class=\"nowrap\"><span class=\"StarRating center rating-5 regular\"><i class=\"fa fa-star margin-r-5\"></i>5.0</span></div></div><div class=\"line\"><p class=\"vendor-detail\"><span>North Bangalore</span></p><span class=\"review-cnt regular nowrap\">26<!-- --> <!-- -->reviews</span></div><div class=\"line min-height-10px\"><p class=\"vendor-detail small text-tertiary lh-h10\"></p></div></div><div class=\"line\"><hr/></div><div class=\"vendor-price frow margin-10 f-space-between\"><span class=\"frow v-center\"><div><div class=\"frow\"><p class=\"vendor-detail text-bold text-primary v-center margin-r-5\"><i class=\"fa h6 fa-inr margin-r-5\"></i><span class=\"\"> 2.5- 4 Lakh</span></p></div></div></span></div></div>\n"
          ],
          "name": "stdout"
        }
      ]
    },
    {
      "cell_type": "code",
      "metadata": {
        "id": "x2sZQ0gLSncD"
      },
      "source": [
        "Planner = info.find(\"a\",class_=\"vendor-detail\")"
      ],
      "execution_count": 31,
      "outputs": []
    },
    {
      "cell_type": "code",
      "metadata": {
        "id": "N-hqW51CTLi8",
        "outputId": "23928ca3-b2d6-4cce-c5bb-80dca2a354f2",
        "colab": {
          "base_uri": "https://localhost:8080/"
        }
      },
      "source": [
        "print(Planner.text.strip())"
      ],
      "execution_count": 32,
      "outputs": [
        {
          "output_type": "stream",
          "text": [
            "3Productions\n"
          ],
          "name": "stdout"
        }
      ]
    },
    {
      "cell_type": "code",
      "metadata": {
        "id": "nsaGNvk6TOzf"
      },
      "source": [
        "rating = info.find('span',class_=\"StarRating\")"
      ],
      "execution_count": 33,
      "outputs": []
    },
    {
      "cell_type": "code",
      "metadata": {
        "id": "CuFkHBwsTrCn",
        "outputId": "df306549-0994-4ed8-c367-a7515acc0a4a",
        "colab": {
          "base_uri": "https://localhost:8080/"
        }
      },
      "source": [
        "print(rating.text.strip())"
      ],
      "execution_count": 34,
      "outputs": [
        {
          "output_type": "stream",
          "text": [
            "5.0\n"
          ],
          "name": "stdout"
        }
      ]
    },
    {
      "cell_type": "code",
      "metadata": {
        "id": "P20kvrdWTtE1",
        "outputId": "4120a1d8-c5cc-418a-c8fb-52117da8b1b2",
        "colab": {
          "base_uri": "https://localhost:8080/"
        }
      },
      "source": [
        "Place = info.find('p',class_=\"vendor-detail\")\n",
        "print(Place.text.strip())"
      ],
      "execution_count": 35,
      "outputs": [
        {
          "output_type": "stream",
          "text": [
            "North Bangalore\n"
          ],
          "name": "stdout"
        }
      ]
    },
    {
      "cell_type": "code",
      "metadata": {
        "id": "vyCw2UU3UF8H",
        "outputId": "77d1a8de-1f75-4cbd-d5f1-65512ef1cd21",
        "colab": {
          "base_uri": "https://localhost:8080/"
        }
      },
      "source": [
        "reviews = info.find(\"span\",class_=\"review-cnt\")\n",
        "print(reviews.text.strip())"
      ],
      "execution_count": 36,
      "outputs": [
        {
          "output_type": "stream",
          "text": [
            "26 reviews\n"
          ],
          "name": "stdout"
        }
      ]
    },
    {
      "cell_type": "code",
      "metadata": {
        "id": "1kEw89uSVBki",
        "outputId": "5d2db1bb-2eda-4d21-e51c-47a0378e4e9f",
        "colab": {
          "base_uri": "https://localhost:8080/"
        }
      },
      "source": [
        "infos = soup.find_all(\"div\",class_=\"vendor-info\")\n",
        "c = 1\n",
        "planners = []\n",
        "ratings =  []\n",
        "places = []\n",
        "reviews = []\n",
        "\n",
        "for info in infos:\n",
        "  Planner = info.find(\"a\",class_=\"vendor-detail\")\n",
        "  print(c,'-',Planner.text.strip())\n",
        "  planners.append(Planner.text.strip())\n",
        "  rating = info.find('span',class_=\"StarRating\")\n",
        "  print(rating.text.strip())\n",
        "  ratings.append(rating.text.strip())\n",
        "  Place = info.find('p',class_=\"vendor-detail\")\n",
        "  print(Place.text.strip())\n",
        "  places.append(Place.text.strip())\n",
        "  review = info.find(\"span\",class_=\"review-cnt\")\n",
        "  print(review.text.strip())\n",
        "  reviews.append(review.text.strip())\n",
        "  print('')\n",
        "  c+=1\n"
      ],
      "execution_count": 45,
      "outputs": [
        {
          "output_type": "stream",
          "text": [
            "1 - 3Productions\n",
            "5.0\n",
            "North Bangalore\n",
            "26 reviews\n",
            "\n",
            "2 - Aira Wedding Planners\n",
            "4.9\n",
            "South Bangalore\n",
            "33 reviews\n",
            "\n",
            "3 - Crimson And Cherry\n",
            "5.0\n",
            "Bangalore\n",
            "9 reviews\n",
            "\n",
            "4 - Sankalp Weddings\n",
            "5.0\n",
            "Bangalore\n",
            "10 reviews\n",
            "\n",
            "5 - Thinking Brahma\n",
            "4.9\n",
            "Indiranagar\n",
            "12 reviews\n",
            "\n",
            "6 - Gethsemane Wedding Lounge\n",
            "4.9\n",
            "North Bangalore\n",
            "6 reviews\n",
            "\n",
            "7 - Hugar Celebrations\n",
            "5.0\n",
            "North Bangalore\n",
            "2 reviews\n",
            "\n",
            "8 - WedKreeya Events\n",
            "5.0\n",
            "J P Nagar\n",
            "1 review\n",
            "\n",
            "9 - Wedding Stylist by SB Talkies\n",
            "5.0\n",
            "North Bangalore\n",
            "1 review\n",
            "\n",
            "10 - Vistaar Event Solution pvt Ltd\n",
            "5.0\n",
            "Bangalore\n",
            "12 reviews\n",
            "\n",
            "11 - La'kiru-The Wedding Lounge by Lakshmi Keerthi\n",
            "5.0\n",
            "North Bangalore\n",
            "6 reviews\n",
            "\n",
            "12 - Taarini Weddings\n",
            "4.8\n",
            "North Bangalore\n",
            "26 reviews\n",
            "\n",
            "13 - Bowtie Hospitality\n",
            "5.0\n",
            "J P Nagar\n",
            "16 reviews\n",
            "\n",
            "14 - RAKS Entertainment\n",
            "4.9\n",
            "North Bangalore\n",
            "12 reviews\n",
            "\n",
            "15 - Bonjour Events\n",
            "4.9\n",
            "Hal Old Airport Road\n",
            "11 reviews\n",
            "\n",
            "16 - Events by Manisha Porwal\n",
            "5.0\n",
            "Bangalore\n",
            "4 reviews\n",
            "\n",
            "17 - The Show Makers\n",
            "5.0\n",
            "Bangalore\n",
            "1 review\n",
            "\n",
            "18 - Confetti\n",
            "5.0\n",
            "Bangalore\n",
            "4 reviews\n",
            "\n",
            "19 - Marigold Diaries - Weddings Et More\n",
            "4.8\n",
            "North Bangalore\n",
            "6 reviews\n",
            "\n",
            "20 - Moments Now & 4Ever\n",
            "5.0\n",
            "Bellandur\n",
            "8 reviews\n",
            "\n",
            "21 - Wedding Tales\n",
            "4.9\n",
            "North Bangalore\n",
            "17 reviews\n",
            "\n",
            "22 - Big Bash Events\n",
            "5.0\n",
            "South Bangalore\n",
            "11 reviews\n",
            "\n",
            "23 - Best Day Ever by Deepika Shetty\n",
            "4.8\n",
            "Hal Old Airport Road\n",
            "22 reviews\n",
            "\n",
            "24 - Bling It On\n",
            "5.0\n",
            "North Bangalore\n",
            "9 reviews\n",
            "\n",
            "25 - Moments by Advik & Co.\n",
            "5.0\n",
            "Bangalore\n",
            "11 reviews\n",
            "\n",
            "26 - Sketch Clicks\n",
            "5.0\n",
            "North Bangalore\n",
            "3 reviews\n",
            "\n",
            "27 - Vision Events\n",
            "5.0\n",
            "North Bangalore\n",
            "1 review\n",
            "\n",
            "28 - Deebash\n",
            "5.0\n",
            "South Bangalore\n",
            "12 reviews\n",
            "\n",
            "29 - Wedding Chariot\n",
            "4.7\n",
            "Bangalore\n",
            "17 reviews\n",
            "\n",
            "30 - Divya Vithika Wedding Planners\n",
            "5.0\n",
            "South Bangalore\n",
            "7 reviews\n",
            "\n",
            "31 - Bling Mushrooms\n",
            "4.9\n",
            "South Bangalore\n",
            "6 reviews\n",
            "\n",
            "32 - Kraftstar Management\n",
            "4.7\n",
            "Hal Old Airport Road\n",
            "37 reviews\n",
            "\n",
            "33 - Avenues Weddings and Events\n",
            "4.8\n",
            "North Bangalore\n",
            "13 reviews\n",
            "\n",
            "34 - MIG Events & Productions\n",
            "5.0\n",
            "South Bangalore\n",
            "21 reviews\n",
            "\n",
            "35 - WedCrafter\n",
            "4.9\n",
            "North Bangalore\n",
            "11 reviews\n",
            "\n",
            "36 - The Hue Story\n",
            "4.9\n",
            "Ulsoor\n",
            "16 reviews\n",
            "\n",
            "37 - The Royals Event Planners\n",
            "5.0\n",
            "North Bangalore\n",
            "1 review\n",
            "\n",
            "38 - Red Grass Private Limited\n",
            "5.0\n",
            "Bangalore\n",
            "1 review\n",
            "\n",
            "39 - Syc Solutions\n",
            "5.0\n",
            "Hal Old Airport Road\n",
            "2 reviews\n",
            "\n",
            "40 - Wedlock Productions\n",
            "5.0\n",
            "Bangalore\n",
            "6 reviews\n",
            "\n"
          ],
          "name": "stdout"
        }
      ]
    },
    {
      "cell_type": "code",
      "metadata": {
        "id": "pSVpcOBuXBnf"
      },
      "source": [
        "import pandas as pd"
      ],
      "execution_count": 46,
      "outputs": []
    },
    {
      "cell_type": "code",
      "metadata": {
        "id": "89tuHN4FXRke"
      },
      "source": [
        "data = {\"Planner\" :planners,\"Ratings\":planners,\"Locations\":places,\"Reviews\": reviews}"
      ],
      "execution_count": 47,
      "outputs": []
    },
    {
      "cell_type": "code",
      "metadata": {
        "id": "bddBtp6GYyIW"
      },
      "source": [
        "df = pd.DataFrame(data= data)"
      ],
      "execution_count": 49,
      "outputs": []
    },
    {
      "cell_type": "code",
      "metadata": {
        "id": "tNyQZ3lTY3AN",
        "outputId": "8dde2e53-33db-440d-e11c-171f665ed6a7",
        "colab": {
          "base_uri": "https://localhost:8080/",
          "height": 202
        }
      },
      "source": [
        "df.head()"
      ],
      "execution_count": 50,
      "outputs": [
        {
          "output_type": "execute_result",
          "data": {
            "text/html": [
              "<div>\n",
              "<style scoped>\n",
              "    .dataframe tbody tr th:only-of-type {\n",
              "        vertical-align: middle;\n",
              "    }\n",
              "\n",
              "    .dataframe tbody tr th {\n",
              "        vertical-align: top;\n",
              "    }\n",
              "\n",
              "    .dataframe thead th {\n",
              "        text-align: right;\n",
              "    }\n",
              "</style>\n",
              "<table border=\"1\" class=\"dataframe\">\n",
              "  <thead>\n",
              "    <tr style=\"text-align: right;\">\n",
              "      <th></th>\n",
              "      <th>Planner</th>\n",
              "      <th>Ratings</th>\n",
              "      <th>Locations</th>\n",
              "      <th>Reviews</th>\n",
              "    </tr>\n",
              "  </thead>\n",
              "  <tbody>\n",
              "    <tr>\n",
              "      <th>0</th>\n",
              "      <td>3Productions</td>\n",
              "      <td>3Productions</td>\n",
              "      <td>North Bangalore</td>\n",
              "      <td>26 reviews</td>\n",
              "    </tr>\n",
              "    <tr>\n",
              "      <th>1</th>\n",
              "      <td>Aira Wedding Planners</td>\n",
              "      <td>Aira Wedding Planners</td>\n",
              "      <td>South Bangalore</td>\n",
              "      <td>33 reviews</td>\n",
              "    </tr>\n",
              "    <tr>\n",
              "      <th>2</th>\n",
              "      <td>Crimson And Cherry</td>\n",
              "      <td>Crimson And Cherry</td>\n",
              "      <td>Bangalore</td>\n",
              "      <td>9 reviews</td>\n",
              "    </tr>\n",
              "    <tr>\n",
              "      <th>3</th>\n",
              "      <td>Sankalp Weddings</td>\n",
              "      <td>Sankalp Weddings</td>\n",
              "      <td>Bangalore</td>\n",
              "      <td>10 reviews</td>\n",
              "    </tr>\n",
              "    <tr>\n",
              "      <th>4</th>\n",
              "      <td>Thinking Brahma</td>\n",
              "      <td>Thinking Brahma</td>\n",
              "      <td>Indiranagar</td>\n",
              "      <td>12 reviews</td>\n",
              "    </tr>\n",
              "  </tbody>\n",
              "</table>\n",
              "</div>"
            ],
            "text/plain": [
              "                 Planner                Ratings        Locations     Reviews\n",
              "0           3Productions           3Productions  North Bangalore  26 reviews\n",
              "1  Aira Wedding Planners  Aira Wedding Planners  South Bangalore  33 reviews\n",
              "2     Crimson And Cherry     Crimson And Cherry        Bangalore   9 reviews\n",
              "3       Sankalp Weddings       Sankalp Weddings        Bangalore  10 reviews\n",
              "4        Thinking Brahma        Thinking Brahma      Indiranagar  12 reviews"
            ]
          },
          "metadata": {
            "tags": []
          },
          "execution_count": 50
        }
      ]
    },
    {
      "cell_type": "code",
      "metadata": {
        "id": "TwFacbUGY863"
      },
      "source": [
        "df.to_csv(\"Wedding Managers.csv\")"
      ],
      "execution_count": 51,
      "outputs": []
    },
    {
      "cell_type": "code",
      "metadata": {
        "id": "cNjVbBDSZGt9"
      },
      "source": [
        ""
      ],
      "execution_count": null,
      "outputs": []
    }
  ]
}