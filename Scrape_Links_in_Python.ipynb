{
  "nbformat": 4,
  "nbformat_minor": 0,
  "metadata": {
    "colab": {
      "name": "Scrape Links in Python.ipynb",
      "provenance": []
    },
    "kernelspec": {
      "name": "python3",
      "display_name": "Python 3"
    }
  },
  "cells": [
    {
      "cell_type": "code",
      "metadata": {
        "id": "9AnpXhTOdJMr",
        "colab_type": "code",
        "colab": {}
      },
      "source": [
        "from bs4 import BeautifulSoup\n",
        "import requests\n",
        "#  https://everythingcomputerscience.com/test/simpleHTML.html"
      ],
      "execution_count": 4,
      "outputs": []
    },
    {
      "cell_type": "code",
      "metadata": {
        "id": "rq1PBSTPdXI_",
        "colab_type": "code",
        "colab": {
          "base_uri": "https://localhost:8080/",
          "height": 35
        },
        "outputId": "a23fd7b8-2e08-4775-9302-b3979737dbb6"
      },
      "source": [
        "url = input(\"enter a website to extract the links from: \")"
      ],
      "execution_count": 3,
      "outputs": [
        {
          "output_type": "stream",
          "text": [
            "enter a website to extract the links from: https://everythingcomputerscience.com/test/simpleHTML.html\n"
          ],
          "name": "stdout"
        }
      ]
    },
    {
      "cell_type": "code",
      "metadata": {
        "id": "ZJUeCfeieFmS",
        "colab_type": "code",
        "colab": {}
      },
      "source": [
        "r = requests.get(url)"
      ],
      "execution_count": 5,
      "outputs": []
    },
    {
      "cell_type": "code",
      "metadata": {
        "id": "_Xj205lPftk5",
        "colab_type": "code",
        "colab": {}
      },
      "source": [
        "data = r.text"
      ],
      "execution_count": 6,
      "outputs": []
    },
    {
      "cell_type": "code",
      "metadata": {
        "id": "qjJ9XgWzf83x",
        "colab_type": "code",
        "colab": {}
      },
      "source": [
        "soup = BeautifulSoup(data,'html.parser')\n",
        "result = soup.find('a')"
      ],
      "execution_count": 11,
      "outputs": []
    },
    {
      "cell_type": "code",
      "metadata": {
        "id": "WKw0UaS2gFsy",
        "colab_type": "code",
        "colab": {
          "base_uri": "https://localhost:8080/",
          "height": 35
        },
        "outputId": "997662f4-23df-4f0d-a456-fcfba8c8bd0b"
      },
      "source": [
        "list = \"\"\n",
        "for link in soup.find_all('a'):\n",
        "    list += link.get('href');\n",
        "print(list)"
      ],
      "execution_count": 16,
      "outputs": [
        {
          "output_type": "stream",
          "text": [
            "/images/recurrence_relations.jpghttp://www.yahoo.comhttp://www.yahoo.com/images/recurrence_relations.jpg\n"
          ],
          "name": "stdout"
        }
      ]
    },
    {
      "cell_type": "code",
      "metadata": {
        "id": "w-JWRB_ngJVV",
        "colab_type": "code",
        "colab": {
          "base_uri": "https://localhost:8080/",
          "height": 35
        },
        "outputId": "64f0f545-fa22-41a7-acc0-a8e6dcf6e5ad"
      },
      "source": [
        "list"
      ],
      "execution_count": 15,
      "outputs": [
        {
          "output_type": "execute_result",
          "data": {
            "application/vnd.google.colaboratory.intrinsic+json": {
              "type": "string"
            },
            "text/plain": [
              "'/images/recurrence_relations.jpghttp://www.yahoo.comhttp://www.yahoo.com/images/recurrence_relations.jpg'"
            ]
          },
          "metadata": {
            "tags": []
          },
          "execution_count": 15
        }
      ]
    },
    {
      "cell_type": "code",
      "metadata": {
        "id": "M125J6Gvj6cy",
        "colab_type": "code",
        "colab": {}
      },
      "source": [
        ""
      ],
      "execution_count": null,
      "outputs": []
    }
  ]
}